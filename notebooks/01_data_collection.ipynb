{
  "nbformat": 4,
  "nbformat_minor": 0,
  "metadata": {
    "colab": {
      "provenance": [],
      "authorship_tag": "ABX9TyP2/tefBEtVAkIooXceGCuv",
      "include_colab_link": true
    },
    "kernelspec": {
      "name": "python3",
      "display_name": "Python 3"
    },
    "language_info": {
      "name": "python"
    }
  },
  "cells": [
    {
      "cell_type": "markdown",
      "metadata": {
        "id": "view-in-github",
        "colab_type": "text"
      },
      "source": [
        "<a href=\"https://colab.research.google.com/github/carmela-scoglio/drug-repurposing/blob/main/notebooks/01_data_collection.ipynb\" target=\"_parent\"><img src=\"https://colab.research.google.com/assets/colab-badge.svg\" alt=\"Open In Colab\"/></a>"
      ]
    },
    {
      "cell_type": "code",
      "execution_count": null,
      "metadata": {
        "id": "9FeXMrsej0oR"
      },
      "outputs": [],
      "source": [
        "#@title Auto-mount Drive and clone/pull repository\n",
        "from google.colab import drive\n",
        "drive.mount('/content/drive')\n",
        "\n",
        "!git clone https://github.com/carmela-scoglio/drug-repurposing.git\n",
        "# Se il repo esiste già:\n",
        "# %cd drug-repurposing\n",
        "# !git pull"
      ]
    },
    {
      "cell_type": "code",
      "source": [
        "# @title Setup and import\n",
        "!pip install biopython pandas numpy tqdm\n",
        "from Bio import Entrez\n",
        "import pandas as pd\n",
        "import numpy as np\n",
        "from datetime import datetime\n",
        "import json\n",
        "from tqdm.notebook import tqdm\n",
        "import os\n",
        "\n",
        "# Configuration for PubMed\n",
        "Entrez.email = \"carmela.scoglio.97@gmail.com\""
      ],
      "metadata": {
        "id": "8lyc-egkj4TY"
      },
      "execution_count": null,
      "outputs": []
    },
    {
      "cell_type": "code",
      "source": [
        "# @title Mount Google Drive\n",
        "from google.colab import drive\n",
        "drive.mount('/content/drive')\n",
        "\n",
        "# Create folder for the project\n",
        "PROJECT_PATH = '/content/drive/MyDrive/drug_repurposing'\n",
        "os.makedirs(PROJECT_PATH, exist_ok=True)\n",
        "os.makedirs(f\"{PROJECT_PATH}/raw_data\", exist_ok=True)\n",
        "os.makedirs(f\"{PROJECT_PATH}/processed_data\", exist_ok=True)"
      ],
      "metadata": {
        "id": "5cHHq8ayj7eX"
      },
      "execution_count": null,
      "outputs": []
    }
  ]
}